{
 "cells": [
  {
   "cell_type": "code",
   "execution_count": 1,
   "metadata": {},
   "outputs": [],
   "source": [
    "import cv2\n",
    "import numpy as np\n",
    "\n",
    "img=cv2.imread(\"human.jpg\",0)\n",
    "\n",
    "#カーネル\n",
    "F_x=np.array([[-1,0,1],[-2,0,2],[-1,0,1]])\n",
    "F_y=F_x.T\n",
    "\n",
    "#画像サイズ\n",
    "H,W=img.shape"
   ]
  },
  {
   "cell_type": "code",
   "execution_count": 10,
   "metadata": {},
   "outputs": [],
   "source": [
    "image_x=np.zeros((H-1,W-1))\n",
    "\n",
    "for i in range(1,H-1):\n",
    "    for j in range(1,W-1):\n",
    "        flag=F_x[2][2]*img[i-1][j-1]+F_x[2][1]*img[i-1][j]+F_x[2][0]*img[i-1][j+1]+F_x[1][2]*img[i][j-1]+F_x[1][1]*img[i][j]+F_x[1][0]*img[i][j+1]+F_x[0][2]*img[i+1][j-1]+F_x[0][1]*img[i+1][j]+F_x[0][0]*img[i+1][j+1]\n",
    "        if(flag>0):\n",
    "            image_x[i-1][j-1]=255\n",
    "        else:\n",
    "            image_x[i-1][j-1]=0\n",
    "            \n",
    "image_x.astype(np.uint8)\n",
    "cv2.imshow(\"gray_x\",image_x)\n",
    "cv2.waitKey(0)\n",
    "cv2.destroyAllWindows()"
   ]
  },
  {
   "cell_type": "code",
   "execution_count": 9,
   "metadata": {},
   "outputs": [],
   "source": [
    "image_y=np.zeros((H-1,W-1))\n",
    "\n",
    "for i in range(1,H-1):\n",
    "    for j in range(1,W-1):\n",
    "        flag=F_y[2][2]*img[i-1][j-1]+F_y[2][1]*img[i-1][j]+F_y[2][0]*img[i-1][j+1]+F_y[1][2]*img[i][j-1]+F_y[1][1]*img[i][j]+F_y[1][0]*img[i][j+1]+F_y[0][2]*img[i+1][j-1]+F_y[0][1]*img[i+1][j]+F_y[0][0]*img[i+1][j+1]\n",
    "        if(flag>0):\n",
    "            image_y[i-1][j-1]=255\n",
    "        else:\n",
    "            image_y[i-1][j-1]=0\n",
    "            \n",
    "image_x.astype(np.uint8)\n",
    "cv2.imshow(\"gray_y\",image_y)\n",
    "cv2.waitKey(0)\n",
    "cv2.destroyAllWindows()"
   ]
  },
  {
   "cell_type": "code",
   "execution_count": 6,
   "metadata": {},
   "outputs": [
    {
     "data": {
      "text/plain": [
       "True"
      ]
     },
     "execution_count": 6,
     "metadata": {},
     "output_type": "execute_result"
    }
   ],
   "source": [
    "cv2.imwrite(\"gray.jpg\",img)"
   ]
  },
  {
   "cell_type": "code",
   "execution_count": 7,
   "metadata": {},
   "outputs": [
    {
     "data": {
      "text/plain": [
       "True"
      ]
     },
     "execution_count": 7,
     "metadata": {},
     "output_type": "execute_result"
    }
   ],
   "source": [
    "cv2.imwrite(\"kernel_x.jpg\",image_x)"
   ]
  },
  {
   "cell_type": "code",
   "execution_count": 8,
   "metadata": {},
   "outputs": [
    {
     "data": {
      "text/plain": [
       "True"
      ]
     },
     "execution_count": 8,
     "metadata": {},
     "output_type": "execute_result"
    }
   ],
   "source": [
    "cv2.imwrite(\"kernel_y.jpg\",image_y)"
   ]
  },
  {
   "cell_type": "code",
   "execution_count": null,
   "metadata": {},
   "outputs": [],
   "source": []
  }
 ],
 "metadata": {
  "kernelspec": {
   "display_name": "Python 3",
   "language": "python",
   "name": "python3"
  },
  "language_info": {
   "codemirror_mode": {
    "name": "ipython",
    "version": 3
   },
   "file_extension": ".py",
   "mimetype": "text/x-python",
   "name": "python",
   "nbconvert_exporter": "python",
   "pygments_lexer": "ipython3",
   "version": "3.7.3"
  }
 },
 "nbformat": 4,
 "nbformat_minor": 2
}
