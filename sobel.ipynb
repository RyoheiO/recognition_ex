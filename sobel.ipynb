{
 "cells": [
  {
   "cell_type": "code",
   "execution_count": 108,
   "metadata": {},
   "outputs": [],
   "source": [
    "import cv2\n",
    "import numpy as np\n",
    "\n",
    "img=cv2.imread(\"neko.png\",0)\n",
    "\n",
    "#カーネル\n",
    "F_x=np.array([[-1,0,1],[-2,0,2],[-1,0,1]])\n",
    "F_y=F_x.T\n",
    "\n",
    "#画像サイズ\n",
    "H,W=img.shape"
   ]
  },
  {
   "cell_type": "code",
   "execution_count": 109,
   "metadata": {},
   "outputs": [],
   "source": [
    "image_x=np.zeros((H-2,W-2))\n",
    "\n",
    "for i in range(1,H-1):\n",
    "    for j in range(1,W-1):\n",
    "        image_x[i-1][j-1]=F_x[2][2]*img[i-1][j-1]+F_x[2][1]*img[i-1][j]+F_x[2][0]*img[i-1][j+1]+F_x[1][2]*img[i][j-1]+F_x[1][1]*img[i][j]+F_x[1][0]*img[i][j+1]+F_x[0][2]*img[i+1][j-1]+F_x[0][1]*img[i+1][j]+F_x[0][0]*img[i+1][j+1]"
   ]
  },
  {
   "cell_type": "code",
   "execution_count": 110,
   "metadata": {},
   "outputs": [],
   "source": [
    "image_y=np.zeros((H-2,W-2))\n",
    "\n",
    "for i in range(1,H-1):\n",
    "    for j in range(1,W-1):\n",
    "        image_y[i-1][j-1]=F_y[2][2]*img[i-1][j-1]+F_y[2][1]*img[i-1][j]+F_y[2][0]*img[i-1][j+1]+F_y[1][2]*img[i][j-1]+F_y[1][1]*img[i][j]+F_y[1][0]*img[i][j+1]+F_y[0][2]*img[i+1][j-1]+F_y[0][1]*img[i+1][j]+F_y[0][0]*img[i+1][j+1]"
   ]
  },
  {
   "cell_type": "code",
   "execution_count": 119,
   "metadata": {},
   "outputs": [],
   "source": [
    "#エッジ検出\n",
    "image=np.zeros((H-2,W-2))\n",
    "for i in range(0,H-2):\n",
    "    for j in range(0,W-2):\n",
    "        score=np.sqrt(image_x[i,j]**2+image_y[i,j]**2)\n",
    "        if(score>=30):\n",
    "            image[i,j]=0\n",
    "        else:\n",
    "            image[i,j]=255"
   ]
  },
  {
   "cell_type": "code",
   "execution_count": 120,
   "metadata": {},
   "outputs": [],
   "source": [
    "#表示\n",
    "image.astype(np.uint8)\n",
    "cv2.imshow(\"gray_sobel\",image)\n",
    "cv2.waitKey(0)\n",
    "cv2.destroyAllWindows()"
   ]
  },
  {
   "cell_type": "code",
   "execution_count": 121,
   "metadata": {},
   "outputs": [
    {
     "data": {
      "text/plain": [
       "True"
      ]
     },
     "execution_count": 121,
     "metadata": {},
     "output_type": "execute_result"
    }
   ],
   "source": [
    "#保存\n",
    "cv2.imwrite(\"gray.png\",img)\n",
    "cv2.imwrite(\"sobel.png\",image)"
   ]
  },
  {
   "cell_type": "code",
   "execution_count": null,
   "metadata": {},
   "outputs": [],
   "source": []
  }
 ],
 "metadata": {
  "kernelspec": {
   "display_name": "Python 3",
   "language": "python",
   "name": "python3"
  },
  "language_info": {
   "codemirror_mode": {
    "name": "ipython",
    "version": 3
   },
   "file_extension": ".py",
   "mimetype": "text/x-python",
   "name": "python",
   "nbconvert_exporter": "python",
   "pygments_lexer": "ipython3",
   "version": "3.7.3"
  }
 },
 "nbformat": 4,
 "nbformat_minor": 2
}
