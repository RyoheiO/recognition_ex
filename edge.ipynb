{
 "cells": [
  {
   "cell_type": "code",
   "execution_count": 3,
   "metadata": {},
   "outputs": [],
   "source": [
    "import cv2\n",
    "import numpy as np\n",
    "\n",
    "img=cv2.imread(\"human.jpg\",0)\n",
    "\n",
    "#カーネル\n",
    "F_H=np.array([[0,0,0],[1/2,0,-1/2],[0,0,0]])\n",
    "F_V=F_H.T\n",
    "\n",
    "#画像サイズ\n",
    "H,W=img.shape"
   ]
  },
  {
   "cell_type": "code",
   "execution_count": 25,
   "metadata": {},
   "outputs": [],
   "source": [
    "#畳み込み計算\n",
    "def conv(A,B,n):\n",
    "    conv=0\n",
    "    for i in range(0,n):\n",
    "        for j in range(0,n):\n",
    "            conv+=A[i][j]*B[n-1-i][n-1-j]\n",
    "    return conv\n",
    "        \n",
    "#近傍画像\n",
    "def sub_image(f,i,j):\n",
    "    sub_f=np.zeros((3,3))\n",
    "    sub_f[0][0]=f[i-1][j-1]\n",
    "    sub_f[0][1]=f[i-1][j]\n",
    "    sub_f[0][2]=f[i-1][j+1]\n",
    "    sub_f[1][0]=f[i][j-1]\n",
    "    sub_f[1][1]=f[i][j]\n",
    "    sub_f[1][2]=f[i][j+1]\n",
    "    sub_f[2][0]=f[i+1][j-1]\n",
    "    sub_f[2][1]=f[i+1][j]\n",
    "    sub_f[2][2]=f[i+1][j+1]\n",
    "    \n",
    "    return sub_f"
   ]
  },
  {
   "cell_type": "code",
   "execution_count": 29,
   "metadata": {},
   "outputs": [],
   "source": [
    "Delta_H_f=np.zeros((H-2,W-2))\n",
    "Delta_V_f=np.zeros((H-2,W-2))\n",
    "\n",
    "for i in range(1,H-1):\n",
    "    for j in range(1,W-1):\n",
    "        sub_f=sub_image(img,i,j)\n",
    "        Delta_H_f[i-1][j-1]=conv(sub_f,F_H,3)\n",
    "        Delta_V_f[i-1][j-1]=conv(sub_f,F_V,3)"
   ]
  },
  {
   "cell_type": "code",
   "execution_count": 49,
   "metadata": {},
   "outputs": [],
   "source": [
    "#エッジ検出\n",
    "edge_f=np.zeros((H-2,W-2))\n",
    "for i in range(0,H-2):\n",
    "    for j in range(0,W-2):\n",
    "        score=np.sqrt(Delta_H_f[i][j]**2+Delta_V_f[i][j]**2)\n",
    "        if(score>=16):\n",
    "            edge_f[i,j]=0\n",
    "        else:\n",
    "            edge_f[i,j]=255"
   ]
  },
  {
   "cell_type": "code",
   "execution_count": 50,
   "metadata": {},
   "outputs": [],
   "source": [
    "#表示\n",
    "edge_f.astype(np.uint8)\n",
    "cv2.imshow(\"gray_sobel\",edge_f)\n",
    "cv2.waitKey(0)\n",
    "cv2.destroyAllWindows()"
   ]
  },
  {
   "cell_type": "code",
   "execution_count": 51,
   "metadata": {},
   "outputs": [
    {
     "data": {
      "text/plain": [
       "True"
      ]
     },
     "execution_count": 51,
     "metadata": {},
     "output_type": "execute_result"
    }
   ],
   "source": [
    "#保存\n",
    "cv2.imwrite(\"gray.png\",img)\n",
    "cv2.imwrite(\"edge.png\",edge_f)"
   ]
  },
  {
   "cell_type": "code",
   "execution_count": null,
   "metadata": {},
   "outputs": [],
   "source": []
  }
 ],
 "metadata": {
  "kernelspec": {
   "display_name": "Python 3",
   "language": "python",
   "name": "python3"
  },
  "language_info": {
   "codemirror_mode": {
    "name": "ipython",
    "version": 3
   },
   "file_extension": ".py",
   "mimetype": "text/x-python",
   "name": "python",
   "nbconvert_exporter": "python",
   "pygments_lexer": "ipython3",
   "version": "3.7.3"
  }
 },
 "nbformat": 4,
 "nbformat_minor": 2
}
